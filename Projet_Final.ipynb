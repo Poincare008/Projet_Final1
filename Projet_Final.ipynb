{
 "cells": [
  {
   "cell_type": "markdown",
   "id": "fbfdca53",
   "metadata": {},
   "source": [
    "# Projet Final"
   ]
  },
  {
   "cell_type": "markdown",
   "id": "01bf883d",
   "metadata": {},
   "source": [
    "![Alt text](images/Image6.jpeg)"
   ]
  },
  {
   "cell_type": "markdown",
   "id": "94ec9101",
   "metadata": {},
   "source": [
    "\n",
    "## Overview\n",
    "\n",
    "Nan kad travay sa nou bral eseye gade nn ki pi bon mak Avyon konpayi an ka envesti. Pou sa nou bral realize yon ansanm de analiz sou yon dataset ki soti nn the __\"National Transportation Safety Board\"__ ki pran an kont aksidan avyon ki rive nn mond lan soti 1962 rive 2023. Pou nou arive ak fen sa, nap itilize kom zouti de baz Python ki se yn langaj de pwogramasyon, nap itilize tou kek teknik statistik pou nou arive tire konklizyon nou an. Pou fini nap prezante yon Tablo de bo, kap konpile kek graf ki gen pou finalite ede deside yo pran yon pi bon desizyon.\n"
   ]
  },
  {
   "cell_type": "markdown",
   "id": "a642f793",
   "metadata": {},
   "source": [
    "## Business Problem\n",
    "\n",
    "![Alt text](images/Image4.jpeg)\n",
    "\n",
    "\n",
    "The company is expanding in to new industries to diversify its portfolio. Specifically, they are interested in purchasing and operating airplanes for commercial and private enterprises, but do not know anything about the potential risks of aircraft. We are charged with determining which aircraft are the lowest risk for the company to start this new business endeavor. We must then translate our findings into actionable insights that the head of the new aviation division can use to help decide which aircraft to purchase."
   ]
  },
  {
   "cell_type": "markdown",
   "id": "fd146e6e",
   "metadata": {},
   "source": [
    "## Data Uderstanding\n",
    "\n",
    "![Alt text](images/Image7.jpeg)\n",
    "\n",
    "The data is a dataset from the National Transportation Safety Board that includes aviation accident data from 1962 to 2023 about civil aviation accidents and selected incidents in the United States and international waters."
   ]
  },
  {
   "cell_type": "code",
   "execution_count": 2,
   "id": "ebaf2bf4",
   "metadata": {},
   "outputs": [],
   "source": [
    "# Ann enpote pakej nap gen bezwen nn travay la.\n",
    "import pandas as pd\n",
    "import matplotlib.pyplot as  plt\n",
    "import seaborn as sns\n"
   ]
  },
  {
   "cell_type": "code",
   "execution_count": 3,
   "id": "2c38a91f",
   "metadata": {},
   "outputs": [
    {
     "name": "stderr",
     "output_type": "stream",
     "text": [
      "C:\\Users\\Calixte\\AppData\\Local\\Temp\\ipykernel_18156\\3388758982.py:2: DtypeWarning: Columns (6,7,28) have mixed types. Specify dtype option on import or set low_memory=False.\n",
      "  df = pd.read_csv('data/Aviation_Data.csv')\n"
     ]
    },
    {
     "data": {
      "text/html": [
       "<div>\n",
       "<style scoped>\n",
       "    .dataframe tbody tr th:only-of-type {\n",
       "        vertical-align: middle;\n",
       "    }\n",
       "\n",
       "    .dataframe tbody tr th {\n",
       "        vertical-align: top;\n",
       "    }\n",
       "\n",
       "    .dataframe thead th {\n",
       "        text-align: right;\n",
       "    }\n",
       "</style>\n",
       "<table border=\"1\" class=\"dataframe\">\n",
       "  <thead>\n",
       "    <tr style=\"text-align: right;\">\n",
       "      <th></th>\n",
       "      <th>Event.Id</th>\n",
       "      <th>Investigation.Type</th>\n",
       "      <th>Accident.Number</th>\n",
       "      <th>Event.Date</th>\n",
       "      <th>Location</th>\n",
       "      <th>Country</th>\n",
       "      <th>Latitude</th>\n",
       "      <th>Longitude</th>\n",
       "      <th>Airport.Code</th>\n",
       "      <th>Airport.Name</th>\n",
       "      <th>...</th>\n",
       "      <th>Purpose.of.flight</th>\n",
       "      <th>Air.carrier</th>\n",
       "      <th>Total.Fatal.Injuries</th>\n",
       "      <th>Total.Serious.Injuries</th>\n",
       "      <th>Total.Minor.Injuries</th>\n",
       "      <th>Total.Uninjured</th>\n",
       "      <th>Weather.Condition</th>\n",
       "      <th>Broad.phase.of.flight</th>\n",
       "      <th>Report.Status</th>\n",
       "      <th>Publication.Date</th>\n",
       "    </tr>\n",
       "  </thead>\n",
       "  <tbody>\n",
       "    <tr>\n",
       "      <th>0</th>\n",
       "      <td>20001218X45444</td>\n",
       "      <td>Accident</td>\n",
       "      <td>SEA87LA080</td>\n",
       "      <td>1948-10-24</td>\n",
       "      <td>MOOSE CREEK, ID</td>\n",
       "      <td>United States</td>\n",
       "      <td>NaN</td>\n",
       "      <td>NaN</td>\n",
       "      <td>NaN</td>\n",
       "      <td>NaN</td>\n",
       "      <td>...</td>\n",
       "      <td>Personal</td>\n",
       "      <td>NaN</td>\n",
       "      <td>2.0</td>\n",
       "      <td>0.0</td>\n",
       "      <td>0.0</td>\n",
       "      <td>0.0</td>\n",
       "      <td>UNK</td>\n",
       "      <td>Cruise</td>\n",
       "      <td>Probable Cause</td>\n",
       "      <td>NaN</td>\n",
       "    </tr>\n",
       "    <tr>\n",
       "      <th>1</th>\n",
       "      <td>20001218X45447</td>\n",
       "      <td>Accident</td>\n",
       "      <td>LAX94LA336</td>\n",
       "      <td>1962-07-19</td>\n",
       "      <td>BRIDGEPORT, CA</td>\n",
       "      <td>United States</td>\n",
       "      <td>NaN</td>\n",
       "      <td>NaN</td>\n",
       "      <td>NaN</td>\n",
       "      <td>NaN</td>\n",
       "      <td>...</td>\n",
       "      <td>Personal</td>\n",
       "      <td>NaN</td>\n",
       "      <td>4.0</td>\n",
       "      <td>0.0</td>\n",
       "      <td>0.0</td>\n",
       "      <td>0.0</td>\n",
       "      <td>UNK</td>\n",
       "      <td>Unknown</td>\n",
       "      <td>Probable Cause</td>\n",
       "      <td>19-09-1996</td>\n",
       "    </tr>\n",
       "    <tr>\n",
       "      <th>2</th>\n",
       "      <td>20061025X01555</td>\n",
       "      <td>Accident</td>\n",
       "      <td>NYC07LA005</td>\n",
       "      <td>1974-08-30</td>\n",
       "      <td>Saltville, VA</td>\n",
       "      <td>United States</td>\n",
       "      <td>36.922223</td>\n",
       "      <td>-81.878056</td>\n",
       "      <td>NaN</td>\n",
       "      <td>NaN</td>\n",
       "      <td>...</td>\n",
       "      <td>Personal</td>\n",
       "      <td>NaN</td>\n",
       "      <td>3.0</td>\n",
       "      <td>NaN</td>\n",
       "      <td>NaN</td>\n",
       "      <td>NaN</td>\n",
       "      <td>IMC</td>\n",
       "      <td>Cruise</td>\n",
       "      <td>Probable Cause</td>\n",
       "      <td>26-02-2007</td>\n",
       "    </tr>\n",
       "    <tr>\n",
       "      <th>3</th>\n",
       "      <td>20001218X45448</td>\n",
       "      <td>Accident</td>\n",
       "      <td>LAX96LA321</td>\n",
       "      <td>1977-06-19</td>\n",
       "      <td>EUREKA, CA</td>\n",
       "      <td>United States</td>\n",
       "      <td>NaN</td>\n",
       "      <td>NaN</td>\n",
       "      <td>NaN</td>\n",
       "      <td>NaN</td>\n",
       "      <td>...</td>\n",
       "      <td>Personal</td>\n",
       "      <td>NaN</td>\n",
       "      <td>2.0</td>\n",
       "      <td>0.0</td>\n",
       "      <td>0.0</td>\n",
       "      <td>0.0</td>\n",
       "      <td>IMC</td>\n",
       "      <td>Cruise</td>\n",
       "      <td>Probable Cause</td>\n",
       "      <td>12-09-2000</td>\n",
       "    </tr>\n",
       "    <tr>\n",
       "      <th>4</th>\n",
       "      <td>20041105X01764</td>\n",
       "      <td>Accident</td>\n",
       "      <td>CHI79FA064</td>\n",
       "      <td>1979-08-02</td>\n",
       "      <td>Canton, OH</td>\n",
       "      <td>United States</td>\n",
       "      <td>NaN</td>\n",
       "      <td>NaN</td>\n",
       "      <td>NaN</td>\n",
       "      <td>NaN</td>\n",
       "      <td>...</td>\n",
       "      <td>Personal</td>\n",
       "      <td>NaN</td>\n",
       "      <td>1.0</td>\n",
       "      <td>2.0</td>\n",
       "      <td>NaN</td>\n",
       "      <td>0.0</td>\n",
       "      <td>VMC</td>\n",
       "      <td>Approach</td>\n",
       "      <td>Probable Cause</td>\n",
       "      <td>16-04-1980</td>\n",
       "    </tr>\n",
       "  </tbody>\n",
       "</table>\n",
       "<p>5 rows × 31 columns</p>\n",
       "</div>"
      ],
      "text/plain": [
       "         Event.Id Investigation.Type Accident.Number  Event.Date  \\\n",
       "0  20001218X45444           Accident      SEA87LA080  1948-10-24   \n",
       "1  20001218X45447           Accident      LAX94LA336  1962-07-19   \n",
       "2  20061025X01555           Accident      NYC07LA005  1974-08-30   \n",
       "3  20001218X45448           Accident      LAX96LA321  1977-06-19   \n",
       "4  20041105X01764           Accident      CHI79FA064  1979-08-02   \n",
       "\n",
       "          Location        Country   Latitude  Longitude Airport.Code  \\\n",
       "0  MOOSE CREEK, ID  United States        NaN        NaN          NaN   \n",
       "1   BRIDGEPORT, CA  United States        NaN        NaN          NaN   \n",
       "2    Saltville, VA  United States  36.922223 -81.878056          NaN   \n",
       "3       EUREKA, CA  United States        NaN        NaN          NaN   \n",
       "4       Canton, OH  United States        NaN        NaN          NaN   \n",
       "\n",
       "  Airport.Name  ... Purpose.of.flight Air.carrier Total.Fatal.Injuries  \\\n",
       "0          NaN  ...          Personal         NaN                  2.0   \n",
       "1          NaN  ...          Personal         NaN                  4.0   \n",
       "2          NaN  ...          Personal         NaN                  3.0   \n",
       "3          NaN  ...          Personal         NaN                  2.0   \n",
       "4          NaN  ...          Personal         NaN                  1.0   \n",
       "\n",
       "  Total.Serious.Injuries Total.Minor.Injuries Total.Uninjured  \\\n",
       "0                    0.0                  0.0             0.0   \n",
       "1                    0.0                  0.0             0.0   \n",
       "2                    NaN                  NaN             NaN   \n",
       "3                    0.0                  0.0             0.0   \n",
       "4                    2.0                  NaN             0.0   \n",
       "\n",
       "  Weather.Condition  Broad.phase.of.flight   Report.Status Publication.Date  \n",
       "0               UNK                 Cruise  Probable Cause              NaN  \n",
       "1               UNK                Unknown  Probable Cause       19-09-1996  \n",
       "2               IMC                 Cruise  Probable Cause       26-02-2007  \n",
       "3               IMC                 Cruise  Probable Cause       12-09-2000  \n",
       "4               VMC               Approach  Probable Cause       16-04-1980  \n",
       "\n",
       "[5 rows x 31 columns]"
      ]
     },
     "execution_count": 3,
     "metadata": {},
     "output_type": "execute_result"
    }
   ],
   "source": [
    "# Nap enpote data set lan.\n",
    "df = pd.read_csv('data/Aviation_Data.csv')\n",
    "df.head()"
   ]
  },
  {
   "cell_type": "code",
   "execution_count": 4,
   "id": "4a027fba",
   "metadata": {},
   "outputs": [
    {
     "data": {
      "text/plain": [
       "(90348, 31)"
      ]
     },
     "execution_count": 4,
     "metadata": {},
     "output_type": "execute_result"
    }
   ],
   "source": [
    "# Nap gade dimansyon dataset lan.\n",
    "df.shape"
   ]
  },
  {
   "cell_type": "code",
   "execution_count": 5,
   "id": "170bf4c6",
   "metadata": {},
   "outputs": [
    {
     "name": "stdout",
     "output_type": "stream",
     "text": [
      "<class 'pandas.core.frame.DataFrame'>\n",
      "RangeIndex: 90348 entries, 0 to 90347\n",
      "Data columns (total 31 columns):\n",
      " #   Column                  Non-Null Count  Dtype  \n",
      "---  ------                  --------------  -----  \n",
      " 0   Event.Id                88889 non-null  object \n",
      " 1   Investigation.Type      90348 non-null  object \n",
      " 2   Accident.Number         88889 non-null  object \n",
      " 3   Event.Date              88889 non-null  object \n",
      " 4   Location                88837 non-null  object \n",
      " 5   Country                 88663 non-null  object \n",
      " 6   Latitude                34382 non-null  object \n",
      " 7   Longitude               34373 non-null  object \n",
      " 8   Airport.Code            50132 non-null  object \n",
      " 9   Airport.Name            52704 non-null  object \n",
      " 10  Injury.Severity         87889 non-null  object \n",
      " 11  Aircraft.damage         85695 non-null  object \n",
      " 12  Aircraft.Category       32287 non-null  object \n",
      " 13  Registration.Number     87507 non-null  object \n",
      " 14  Make                    88826 non-null  object \n",
      " 15  Model                   88797 non-null  object \n",
      " 16  Amateur.Built           88787 non-null  object \n",
      " 17  Number.of.Engines       82805 non-null  float64\n",
      " 18  Engine.Type             81793 non-null  object \n",
      " 19  FAR.Description         32023 non-null  object \n",
      " 20  Schedule                12582 non-null  object \n",
      " 21  Purpose.of.flight       82697 non-null  object \n",
      " 22  Air.carrier             16648 non-null  object \n",
      " 23  Total.Fatal.Injuries    77488 non-null  float64\n",
      " 24  Total.Serious.Injuries  76379 non-null  float64\n",
      " 25  Total.Minor.Injuries    76956 non-null  float64\n",
      " 26  Total.Uninjured         82977 non-null  float64\n",
      " 27  Weather.Condition       84397 non-null  object \n",
      " 28  Broad.phase.of.flight   61724 non-null  object \n",
      " 29  Report.Status           82505 non-null  object \n",
      " 30  Publication.Date        73659 non-null  object \n",
      "dtypes: float64(5), object(26)\n",
      "memory usage: 21.4+ MB\n"
     ]
    }
   ],
   "source": [
    "# Nap eksplore kolon dataset lan.\n",
    "df.info()\n"
   ]
  },
  {
   "cell_type": "code",
   "execution_count": 6,
   "id": "383b8ecf",
   "metadata": {},
   "outputs": [
    {
     "data": {
      "text/html": [
       "<div>\n",
       "<style scoped>\n",
       "    .dataframe tbody tr th:only-of-type {\n",
       "        vertical-align: middle;\n",
       "    }\n",
       "\n",
       "    .dataframe tbody tr th {\n",
       "        vertical-align: top;\n",
       "    }\n",
       "\n",
       "    .dataframe thead th {\n",
       "        text-align: right;\n",
       "    }\n",
       "</style>\n",
       "<table border=\"1\" class=\"dataframe\">\n",
       "  <thead>\n",
       "    <tr style=\"text-align: right;\">\n",
       "      <th></th>\n",
       "      <th>Number.of.Engines</th>\n",
       "      <th>Total.Fatal.Injuries</th>\n",
       "      <th>Total.Serious.Injuries</th>\n",
       "      <th>Total.Minor.Injuries</th>\n",
       "      <th>Total.Uninjured</th>\n",
       "    </tr>\n",
       "  </thead>\n",
       "  <tbody>\n",
       "    <tr>\n",
       "      <th>count</th>\n",
       "      <td>82805.000000</td>\n",
       "      <td>77488.000000</td>\n",
       "      <td>76379.000000</td>\n",
       "      <td>76956.000000</td>\n",
       "      <td>82977.000000</td>\n",
       "    </tr>\n",
       "    <tr>\n",
       "      <th>mean</th>\n",
       "      <td>1.146585</td>\n",
       "      <td>0.647855</td>\n",
       "      <td>0.279881</td>\n",
       "      <td>0.357061</td>\n",
       "      <td>5.325440</td>\n",
       "    </tr>\n",
       "    <tr>\n",
       "      <th>std</th>\n",
       "      <td>0.446510</td>\n",
       "      <td>5.485960</td>\n",
       "      <td>1.544084</td>\n",
       "      <td>2.235625</td>\n",
       "      <td>27.913634</td>\n",
       "    </tr>\n",
       "    <tr>\n",
       "      <th>min</th>\n",
       "      <td>0.000000</td>\n",
       "      <td>0.000000</td>\n",
       "      <td>0.000000</td>\n",
       "      <td>0.000000</td>\n",
       "      <td>0.000000</td>\n",
       "    </tr>\n",
       "    <tr>\n",
       "      <th>25%</th>\n",
       "      <td>1.000000</td>\n",
       "      <td>0.000000</td>\n",
       "      <td>0.000000</td>\n",
       "      <td>0.000000</td>\n",
       "      <td>0.000000</td>\n",
       "    </tr>\n",
       "    <tr>\n",
       "      <th>50%</th>\n",
       "      <td>1.000000</td>\n",
       "      <td>0.000000</td>\n",
       "      <td>0.000000</td>\n",
       "      <td>0.000000</td>\n",
       "      <td>1.000000</td>\n",
       "    </tr>\n",
       "    <tr>\n",
       "      <th>75%</th>\n",
       "      <td>1.000000</td>\n",
       "      <td>0.000000</td>\n",
       "      <td>0.000000</td>\n",
       "      <td>0.000000</td>\n",
       "      <td>2.000000</td>\n",
       "    </tr>\n",
       "    <tr>\n",
       "      <th>max</th>\n",
       "      <td>8.000000</td>\n",
       "      <td>349.000000</td>\n",
       "      <td>161.000000</td>\n",
       "      <td>380.000000</td>\n",
       "      <td>699.000000</td>\n",
       "    </tr>\n",
       "  </tbody>\n",
       "</table>\n",
       "</div>"
      ],
      "text/plain": [
       "       Number.of.Engines  Total.Fatal.Injuries  Total.Serious.Injuries  \\\n",
       "count       82805.000000          77488.000000            76379.000000   \n",
       "mean            1.146585              0.647855                0.279881   \n",
       "std             0.446510              5.485960                1.544084   \n",
       "min             0.000000              0.000000                0.000000   \n",
       "25%             1.000000              0.000000                0.000000   \n",
       "50%             1.000000              0.000000                0.000000   \n",
       "75%             1.000000              0.000000                0.000000   \n",
       "max             8.000000            349.000000              161.000000   \n",
       "\n",
       "       Total.Minor.Injuries  Total.Uninjured  \n",
       "count          76956.000000     82977.000000  \n",
       "mean               0.357061         5.325440  \n",
       "std                2.235625        27.913634  \n",
       "min                0.000000         0.000000  \n",
       "25%                0.000000         0.000000  \n",
       "50%                0.000000         1.000000  \n",
       "75%                0.000000         2.000000  \n",
       "max              380.000000       699.000000  "
      ]
     },
     "execution_count": 6,
     "metadata": {},
     "output_type": "execute_result"
    }
   ],
   "source": [
    "# Nap eksplore data nimerik ki nn dataset nou an.\n",
    "df.describe()"
   ]
  },
  {
   "cell_type": "code",
   "execution_count": 7,
   "id": "8bf78c91",
   "metadata": {},
   "outputs": [
    {
     "name": "stdout",
     "output_type": "stream",
     "text": [
      "1390\n"
     ]
    }
   ],
   "source": [
    "# Nap gade sin gen data ki repete\n",
    "print(df.duplicated().sum())"
   ]
  },
  {
   "cell_type": "code",
   "execution_count": 8,
   "id": "15bdf3ad",
   "metadata": {},
   "outputs": [
    {
     "data": {
      "text/plain": [
       "Event.Id                   1.614867\n",
       "Investigation.Type         0.000000\n",
       "Accident.Number            1.614867\n",
       "Event.Date                 1.614867\n",
       "Location                   1.672422\n",
       "Country                    1.865011\n",
       "Latitude                  61.944924\n",
       "Longitude                 61.954886\n",
       "Airport.Code              44.512330\n",
       "Airport.Name              41.665560\n",
       "Injury.Severity            2.721698\n",
       "Aircraft.damage            5.150086\n",
       "Aircraft.Category         64.263736\n",
       "Registration.Number        3.144508\n",
       "Make                       1.684597\n",
       "Model                      1.716695\n",
       "Amateur.Built              1.727764\n",
       "Number.of.Engines          8.348829\n",
       "Engine.Type                9.468942\n",
       "FAR.Description           64.555939\n",
       "Schedule                  86.073848\n",
       "Purpose.of.flight          8.468367\n",
       "Air.carrier               81.573471\n",
       "Total.Fatal.Injuries      14.233851\n",
       "Total.Serious.Injuries    15.461327\n",
       "Total.Minor.Injuries      14.822686\n",
       "Total.Uninjured            8.158454\n",
       "Weather.Condition          6.586753\n",
       "Broad.phase.of.flight     31.681941\n",
       "Report.Status              8.680878\n",
       "Publication.Date          18.471909\n",
       "dtype: float64"
      ]
     },
     "execution_count": 8,
     "metadata": {},
     "output_type": "execute_result"
    }
   ],
   "source": [
    "# Nap gade konbyen data nil nou genyen nn dataset nou an (%).\n",
    "df.isnull().sum()/len(df)*100"
   ]
  },
  {
   "cell_type": "code",
   "execution_count": 9,
   "id": "9d75cb72",
   "metadata": {},
   "outputs": [
    {
     "data": {
      "text/plain": [
       "(87952, 31)"
      ]
     },
     "execution_count": 9,
     "metadata": {},
     "output_type": "execute_result"
    }
   ],
   "source": [
    "# Nap retire liy ki repete yo.\n",
    "df = df.drop_duplicates(subset=['Event.Id'])\n",
    "df.shape"
   ]
  },
  {
   "cell_type": "code",
   "execution_count": 10,
   "id": "a5f0ccf0",
   "metadata": {},
   "outputs": [
    {
     "name": "stdout",
     "output_type": "stream",
     "text": [
      "0\n"
     ]
    }
   ],
   "source": [
    "# Nap verifye rezilta liy kod anle a\n",
    "print(df.duplicated().sum())"
   ]
  },
  {
   "cell_type": "code",
   "execution_count": 11,
   "id": "87f6ba5b",
   "metadata": {},
   "outputs": [
    {
     "data": {
      "text/plain": [
       "Index(['Event.Id', 'Investigation.Type', 'Accident.Number', 'Event.Date',\n",
       "       'Location', 'Country', 'Injury.Severity', 'Aircraft.damage',\n",
       "       'Registration.Number', 'Make', 'Model', 'Amateur.Built',\n",
       "       'Number.of.Engines', 'Engine.Type', 'Purpose.of.flight',\n",
       "       'Total.Fatal.Injuries', 'Total.Serious.Injuries',\n",
       "       'Total.Minor.Injuries', 'Total.Uninjured', 'Weather.Condition',\n",
       "       'Broad.phase.of.flight', 'Report.Status', 'Publication.Date'],\n",
       "      dtype='object')"
      ]
     },
     "execution_count": 11,
     "metadata": {},
     "output_type": "execute_result"
    }
   ],
   "source": [
    "# N ap retire kolòn ki gen plis pase 30% done ki manke, men n ap kenbe [Broad.phase.of.flight] paske nap bezwen l nan analiz nou an. \n",
    "df = df.drop(['FAR.Description','Schedule','Air.carrier','Latitude','Longitude','Airport.Code','Airport.Name','Aircraft.Category'],axis=1)\n",
    "df.columns"
   ]
  },
  {
   "cell_type": "code",
   "execution_count": 12,
   "id": "268075bc",
   "metadata": {},
   "outputs": [
    {
     "data": {
      "text/html": [
       "<div>\n",
       "<style scoped>\n",
       "    .dataframe tbody tr th:only-of-type {\n",
       "        vertical-align: middle;\n",
       "    }\n",
       "\n",
       "    .dataframe tbody tr th {\n",
       "        vertical-align: top;\n",
       "    }\n",
       "\n",
       "    .dataframe thead th {\n",
       "        text-align: right;\n",
       "    }\n",
       "</style>\n",
       "<table border=\"1\" class=\"dataframe\">\n",
       "  <thead>\n",
       "    <tr style=\"text-align: right;\">\n",
       "      <th></th>\n",
       "      <th>Event.Id</th>\n",
       "      <th>Investigation.Type</th>\n",
       "      <th>Accident.Number</th>\n",
       "      <th>Event.Date</th>\n",
       "      <th>Location</th>\n",
       "      <th>Country</th>\n",
       "      <th>Injury.Severity</th>\n",
       "      <th>Aircraft.damage</th>\n",
       "      <th>Registration.Number</th>\n",
       "      <th>Make</th>\n",
       "      <th>...</th>\n",
       "      <th>Engine.Type</th>\n",
       "      <th>Purpose.of.flight</th>\n",
       "      <th>Total.Fatal.Injuries</th>\n",
       "      <th>Total.Serious.Injuries</th>\n",
       "      <th>Total.Minor.Injuries</th>\n",
       "      <th>Total.Uninjured</th>\n",
       "      <th>Weather.Condition</th>\n",
       "      <th>Broad.phase.of.flight</th>\n",
       "      <th>Report.Status</th>\n",
       "      <th>Publication.Date</th>\n",
       "    </tr>\n",
       "  </thead>\n",
       "  <tbody>\n",
       "    <tr>\n",
       "      <th>0</th>\n",
       "      <td>20001218X45444</td>\n",
       "      <td>Accident</td>\n",
       "      <td>SEA87LA080</td>\n",
       "      <td>1948-10-24</td>\n",
       "      <td>MOOSE CREEK, ID</td>\n",
       "      <td>United States</td>\n",
       "      <td>Fatal(2)</td>\n",
       "      <td>Destroyed</td>\n",
       "      <td>NC6404</td>\n",
       "      <td>Stinson</td>\n",
       "      <td>...</td>\n",
       "      <td>Reciprocating</td>\n",
       "      <td>Personal</td>\n",
       "      <td>2.0</td>\n",
       "      <td>0.0</td>\n",
       "      <td>0.0</td>\n",
       "      <td>0.0</td>\n",
       "      <td>UNK</td>\n",
       "      <td>Cruise</td>\n",
       "      <td>Probable Cause</td>\n",
       "      <td>NaN</td>\n",
       "    </tr>\n",
       "    <tr>\n",
       "      <th>1</th>\n",
       "      <td>20001218X45447</td>\n",
       "      <td>Accident</td>\n",
       "      <td>LAX94LA336</td>\n",
       "      <td>1962-07-19</td>\n",
       "      <td>BRIDGEPORT, CA</td>\n",
       "      <td>United States</td>\n",
       "      <td>Fatal(4)</td>\n",
       "      <td>Destroyed</td>\n",
       "      <td>N5069P</td>\n",
       "      <td>Piper</td>\n",
       "      <td>...</td>\n",
       "      <td>Reciprocating</td>\n",
       "      <td>Personal</td>\n",
       "      <td>4.0</td>\n",
       "      <td>0.0</td>\n",
       "      <td>0.0</td>\n",
       "      <td>0.0</td>\n",
       "      <td>UNK</td>\n",
       "      <td>Unknown</td>\n",
       "      <td>Probable Cause</td>\n",
       "      <td>19-09-1996</td>\n",
       "    </tr>\n",
       "    <tr>\n",
       "      <th>2</th>\n",
       "      <td>20061025X01555</td>\n",
       "      <td>Accident</td>\n",
       "      <td>NYC07LA005</td>\n",
       "      <td>1974-08-30</td>\n",
       "      <td>Saltville, VA</td>\n",
       "      <td>United States</td>\n",
       "      <td>Fatal(3)</td>\n",
       "      <td>Destroyed</td>\n",
       "      <td>N5142R</td>\n",
       "      <td>Cessna</td>\n",
       "      <td>...</td>\n",
       "      <td>Reciprocating</td>\n",
       "      <td>Personal</td>\n",
       "      <td>3.0</td>\n",
       "      <td>NaN</td>\n",
       "      <td>NaN</td>\n",
       "      <td>NaN</td>\n",
       "      <td>IMC</td>\n",
       "      <td>Cruise</td>\n",
       "      <td>Probable Cause</td>\n",
       "      <td>26-02-2007</td>\n",
       "    </tr>\n",
       "    <tr>\n",
       "      <th>3</th>\n",
       "      <td>20001218X45448</td>\n",
       "      <td>Accident</td>\n",
       "      <td>LAX96LA321</td>\n",
       "      <td>1977-06-19</td>\n",
       "      <td>EUREKA, CA</td>\n",
       "      <td>United States</td>\n",
       "      <td>Fatal(2)</td>\n",
       "      <td>Destroyed</td>\n",
       "      <td>N1168J</td>\n",
       "      <td>Rockwell</td>\n",
       "      <td>...</td>\n",
       "      <td>Reciprocating</td>\n",
       "      <td>Personal</td>\n",
       "      <td>2.0</td>\n",
       "      <td>0.0</td>\n",
       "      <td>0.0</td>\n",
       "      <td>0.0</td>\n",
       "      <td>IMC</td>\n",
       "      <td>Cruise</td>\n",
       "      <td>Probable Cause</td>\n",
       "      <td>12-09-2000</td>\n",
       "    </tr>\n",
       "    <tr>\n",
       "      <th>4</th>\n",
       "      <td>20041105X01764</td>\n",
       "      <td>Accident</td>\n",
       "      <td>CHI79FA064</td>\n",
       "      <td>1979-08-02</td>\n",
       "      <td>Canton, OH</td>\n",
       "      <td>United States</td>\n",
       "      <td>Fatal(1)</td>\n",
       "      <td>Destroyed</td>\n",
       "      <td>N15NY</td>\n",
       "      <td>Cessna</td>\n",
       "      <td>...</td>\n",
       "      <td>NaN</td>\n",
       "      <td>Personal</td>\n",
       "      <td>1.0</td>\n",
       "      <td>2.0</td>\n",
       "      <td>NaN</td>\n",
       "      <td>0.0</td>\n",
       "      <td>VMC</td>\n",
       "      <td>Approach</td>\n",
       "      <td>Probable Cause</td>\n",
       "      <td>16-04-1980</td>\n",
       "    </tr>\n",
       "  </tbody>\n",
       "</table>\n",
       "<p>5 rows × 23 columns</p>\n",
       "</div>"
      ],
      "text/plain": [
       "         Event.Id Investigation.Type Accident.Number  Event.Date  \\\n",
       "0  20001218X45444           Accident      SEA87LA080  1948-10-24   \n",
       "1  20001218X45447           Accident      LAX94LA336  1962-07-19   \n",
       "2  20061025X01555           Accident      NYC07LA005  1974-08-30   \n",
       "3  20001218X45448           Accident      LAX96LA321  1977-06-19   \n",
       "4  20041105X01764           Accident      CHI79FA064  1979-08-02   \n",
       "\n",
       "          Location        Country Injury.Severity Aircraft.damage  \\\n",
       "0  MOOSE CREEK, ID  United States        Fatal(2)       Destroyed   \n",
       "1   BRIDGEPORT, CA  United States        Fatal(4)       Destroyed   \n",
       "2    Saltville, VA  United States        Fatal(3)       Destroyed   \n",
       "3       EUREKA, CA  United States        Fatal(2)       Destroyed   \n",
       "4       Canton, OH  United States        Fatal(1)       Destroyed   \n",
       "\n",
       "  Registration.Number      Make  ...    Engine.Type Purpose.of.flight  \\\n",
       "0              NC6404   Stinson  ...  Reciprocating          Personal   \n",
       "1              N5069P     Piper  ...  Reciprocating          Personal   \n",
       "2              N5142R    Cessna  ...  Reciprocating          Personal   \n",
       "3              N1168J  Rockwell  ...  Reciprocating          Personal   \n",
       "4               N15NY    Cessna  ...            NaN          Personal   \n",
       "\n",
       "   Total.Fatal.Injuries Total.Serious.Injuries Total.Minor.Injuries  \\\n",
       "0                   2.0                    0.0                  0.0   \n",
       "1                   4.0                    0.0                  0.0   \n",
       "2                   3.0                    NaN                  NaN   \n",
       "3                   2.0                    0.0                  0.0   \n",
       "4                   1.0                    2.0                  NaN   \n",
       "\n",
       "   Total.Uninjured  Weather.Condition  Broad.phase.of.flight   Report.Status  \\\n",
       "0              0.0                UNK                 Cruise  Probable Cause   \n",
       "1              0.0                UNK                Unknown  Probable Cause   \n",
       "2              NaN                IMC                 Cruise  Probable Cause   \n",
       "3              0.0                IMC                 Cruise  Probable Cause   \n",
       "4              0.0                VMC               Approach  Probable Cause   \n",
       "\n",
       "  Publication.Date  \n",
       "0              NaN  \n",
       "1       19-09-1996  \n",
       "2       26-02-2007  \n",
       "3       12-09-2000  \n",
       "4       16-04-1980  \n",
       "\n",
       "[5 rows x 23 columns]"
      ]
     },
     "execution_count": 12,
     "metadata": {},
     "output_type": "execute_result"
    }
   ],
   "source": [
    "# Nap revizyalize data nou an avek nonb kolon redui yo.\n",
    "df.head()"
   ]
  },
  {
   "cell_type": "code",
   "execution_count": 13,
   "id": "d79fc87a",
   "metadata": {},
   "outputs": [
    {
     "name": "stdout",
     "output_type": "stream",
     "text": [
      "27115\n",
      "6123\n",
      "6123\n",
      "93\n",
      "64\n"
     ]
    }
   ],
   "source": [
    "# Nap eseye gade ki kantite vale nil kek kolon genyen.\n",
    "print(df['Broad.phase.of.flight'].isna().sum())\n",
    "print(df['Purpose.of.flight'].isna().sum())\n",
    "print(df['Purpose.of.flight'].isna().sum())\n",
    "print(df['Model'].isna().sum())\n",
    "print(df['Make'].isna().sum())"
   ]
  },
  {
   "cell_type": "code",
   "execution_count": 14,
   "id": "69563bf9",
   "metadata": {},
   "outputs": [
    {
     "data": {
      "text/plain": [
       "(60837, 23)"
      ]
     },
     "execution_count": 14,
     "metadata": {},
     "output_type": "execute_result"
    }
   ],
   "source": [
    "# Nap efase data nil yo nn kolon 'Broad.phase.of.flight' lan.\n",
    "df = df.dropna(subset='Broad.phase.of.flight')\n",
    "df.shape"
   ]
  },
  {
   "cell_type": "code",
   "execution_count": 15,
   "metadata": {},
   "outputs": [
    {
     "name": "stdout",
     "output_type": "stream",
     "text": [
      "0\n",
      "1047\n",
      "1047\n",
      "30\n",
      "11\n"
     ]
    }
   ],
   "source": [
    "print(df['Broad.phase.of.flight'].isna().sum())\n",
    "print(df['Purpose.of.flight'].isna().sum())\n",
    "print(df['Purpose.of.flight'].isna().sum())\n",
    "print(df['Model'].isna().sum())\n",
    "print(df['Make'].isna().sum())"
   ]
  },
  {
   "cell_type": "code",
   "execution_count": 16,
   "id": "03de33b8",
   "metadata": {},
   "outputs": [
    {
     "name": "stdout",
     "output_type": "stream",
     "text": [
      "0\n"
     ]
    }
   ],
   "source": [
    "# Nap verifye si nou gen done nil nn kolon idantifyan inik lan.\n",
    "print(df['Event.Id'].isna().sum())"
   ]
  },
  {
   "cell_type": "code",
   "execution_count": 17,
   "id": "18131a79",
   "metadata": {},
   "outputs": [
    {
     "data": {
      "text/plain": [
       "0    2.0\n",
       "1    4.0\n",
       "2    NaN\n",
       "3    2.0\n",
       "4    NaN\n",
       "Name: Number of Injured, dtype: float64"
      ]
     },
     "execution_count": 17,
     "metadata": {},
     "output_type": "execute_result"
    }
   ],
   "source": [
    "# Nou ajoute yon nouvo kolon nn dataset lan kap anglobe diferan nivo blesi yo.\n",
    "df['Number of Injured'] = df['Total.Fatal.Injuries'] + df['Total.Serious.Injuries']+df['Total.Minor.Injuries']\n",
    "df['Number of Injured'].head()"
   ]
  },
  {
   "cell_type": "code",
   "execution_count": 18,
   "id": "6d8c2fc3",
   "metadata": {},
   "outputs": [
    {
     "name": "stderr",
     "output_type": "stream",
     "text": [
      "C:\\Users\\Calixte\\AppData\\Local\\Temp\\ipykernel_18156\\3228850313.py:2: UserWarning: Parsing dates in %d-%m-%Y format when dayfirst=False (the default) was specified. Pass `dayfirst=True` or specify a format to silence this warning.\n",
      "  df['Publication.Date'] = pd.to_datetime(df['Publication.Date'])\n"
     ]
    }
   ],
   "source": [
    "# Nap konveti tip done kek kolon.\n",
    "df['Publication.Date'] = pd.to_datetime(df['Publication.Date'])\n",
    "df['Event.Date'] = pd.to_datetime(df['Event.Date'])\n",
    "df['Number of Injured'] = pd.to_numeric(df['Number of Injured'])\n",
    "df['Total.Uninjured'] = pd.to_numeric(df['Total.Uninjured'])\n",
    "df['Total.Minor.Injuries'] = pd.to_numeric(df['Total.Minor.Injuries'])\n",
    "df['Total.Serious.Injuries'] = pd.to_numeric(df['Total.Serious.Injuries'])"
   ]
  },
  {
   "cell_type": "code",
   "execution_count": 19,
   "metadata": {},
   "outputs": [
    {
     "data": {
      "text/html": [
       "<div>\n",
       "<style scoped>\n",
       "    .dataframe tbody tr th:only-of-type {\n",
       "        vertical-align: middle;\n",
       "    }\n",
       "\n",
       "    .dataframe tbody tr th {\n",
       "        vertical-align: top;\n",
       "    }\n",
       "\n",
       "    .dataframe thead th {\n",
       "        text-align: right;\n",
       "    }\n",
       "</style>\n",
       "<table border=\"1\" class=\"dataframe\">\n",
       "  <thead>\n",
       "    <tr style=\"text-align: right;\">\n",
       "      <th></th>\n",
       "      <th>Event.Date</th>\n",
       "      <th>Number.of.Engines</th>\n",
       "      <th>Total.Fatal.Injuries</th>\n",
       "      <th>Total.Serious.Injuries</th>\n",
       "      <th>Total.Minor.Injuries</th>\n",
       "      <th>Total.Uninjured</th>\n",
       "      <th>Publication.Date</th>\n",
       "      <th>Number of Injured</th>\n",
       "    </tr>\n",
       "  </thead>\n",
       "  <tbody>\n",
       "    <tr>\n",
       "      <th>count</th>\n",
       "      <td>60837</td>\n",
       "      <td>59942.000000</td>\n",
       "      <td>50299.000000</td>\n",
       "      <td>49618.000000</td>\n",
       "      <td>50248.000000</td>\n",
       "      <td>55871.000000</td>\n",
       "      <td>48561</td>\n",
       "      <td>47879.000000</td>\n",
       "    </tr>\n",
       "    <tr>\n",
       "      <th>mean</th>\n",
       "      <td>1993-05-30 09:59:50.413728512</td>\n",
       "      <td>1.148293</td>\n",
       "      <td>0.470705</td>\n",
       "      <td>0.244044</td>\n",
       "      <td>0.405548</td>\n",
       "      <td>4.320452</td>\n",
       "      <td>1996-11-30 01:16:46.363130752</td>\n",
       "      <td>0.935504</td>\n",
       "    </tr>\n",
       "    <tr>\n",
       "      <th>min</th>\n",
       "      <td>1948-10-24 00:00:00</td>\n",
       "      <td>0.000000</td>\n",
       "      <td>0.000000</td>\n",
       "      <td>0.000000</td>\n",
       "      <td>0.000000</td>\n",
       "      <td>0.000000</td>\n",
       "      <td>1980-04-16 00:00:00</td>\n",
       "      <td>0.000000</td>\n",
       "    </tr>\n",
       "    <tr>\n",
       "      <th>25%</th>\n",
       "      <td>1986-07-28 00:00:00</td>\n",
       "      <td>1.000000</td>\n",
       "      <td>0.000000</td>\n",
       "      <td>0.000000</td>\n",
       "      <td>0.000000</td>\n",
       "      <td>0.000000</td>\n",
       "      <td>1992-09-15 00:00:00</td>\n",
       "      <td>0.000000</td>\n",
       "    </tr>\n",
       "    <tr>\n",
       "      <th>50%</th>\n",
       "      <td>1992-08-13 00:00:00</td>\n",
       "      <td>1.000000</td>\n",
       "      <td>0.000000</td>\n",
       "      <td>0.000000</td>\n",
       "      <td>0.000000</td>\n",
       "      <td>1.000000</td>\n",
       "      <td>1996-02-08 00:00:00</td>\n",
       "      <td>0.000000</td>\n",
       "    </tr>\n",
       "    <tr>\n",
       "      <th>75%</th>\n",
       "      <td>1999-09-19 00:00:00</td>\n",
       "      <td>1.000000</td>\n",
       "      <td>0.000000</td>\n",
       "      <td>0.000000</td>\n",
       "      <td>0.000000</td>\n",
       "      <td>2.000000</td>\n",
       "      <td>2002-06-18 00:00:00</td>\n",
       "      <td>1.000000</td>\n",
       "    </tr>\n",
       "    <tr>\n",
       "      <th>max</th>\n",
       "      <td>2007-12-31 00:00:00</td>\n",
       "      <td>4.000000</td>\n",
       "      <td>265.000000</td>\n",
       "      <td>81.000000</td>\n",
       "      <td>171.000000</td>\n",
       "      <td>699.000000</td>\n",
       "      <td>2020-02-27 00:00:00</td>\n",
       "      <td>283.000000</td>\n",
       "    </tr>\n",
       "    <tr>\n",
       "      <th>std</th>\n",
       "      <td>NaN</td>\n",
       "      <td>0.441859</td>\n",
       "      <td>2.816472</td>\n",
       "      <td>0.858489</td>\n",
       "      <td>1.754193</td>\n",
       "      <td>23.486382</td>\n",
       "      <td>NaN</td>\n",
       "      <td>3.372550</td>\n",
       "    </tr>\n",
       "  </tbody>\n",
       "</table>\n",
       "</div>"
      ],
      "text/plain": [
       "                          Event.Date  Number.of.Engines  Total.Fatal.Injuries  \\\n",
       "count                          60837       59942.000000          50299.000000   \n",
       "mean   1993-05-30 09:59:50.413728512           1.148293              0.470705   \n",
       "min              1948-10-24 00:00:00           0.000000              0.000000   \n",
       "25%              1986-07-28 00:00:00           1.000000              0.000000   \n",
       "50%              1992-08-13 00:00:00           1.000000              0.000000   \n",
       "75%              1999-09-19 00:00:00           1.000000              0.000000   \n",
       "max              2007-12-31 00:00:00           4.000000            265.000000   \n",
       "std                              NaN           0.441859              2.816472   \n",
       "\n",
       "       Total.Serious.Injuries  Total.Minor.Injuries  Total.Uninjured  \\\n",
       "count            49618.000000          50248.000000     55871.000000   \n",
       "mean                 0.244044              0.405548         4.320452   \n",
       "min                  0.000000              0.000000         0.000000   \n",
       "25%                  0.000000              0.000000         0.000000   \n",
       "50%                  0.000000              0.000000         1.000000   \n",
       "75%                  0.000000              0.000000         2.000000   \n",
       "max                 81.000000            171.000000       699.000000   \n",
       "std                  0.858489              1.754193        23.486382   \n",
       "\n",
       "                    Publication.Date  Number of Injured  \n",
       "count                          48561       47879.000000  \n",
       "mean   1996-11-30 01:16:46.363130752           0.935504  \n",
       "min              1980-04-16 00:00:00           0.000000  \n",
       "25%              1992-09-15 00:00:00           0.000000  \n",
       "50%              1996-02-08 00:00:00           0.000000  \n",
       "75%              2002-06-18 00:00:00           1.000000  \n",
       "max              2020-02-27 00:00:00         283.000000  \n",
       "std                              NaN           3.372550  "
      ]
     },
     "execution_count": 19,
     "metadata": {},
     "output_type": "execute_result"
    }
   ],
   "source": [
    "df.describe()"
   ]
  },
  {
   "cell_type": "code",
   "execution_count": 20,
   "id": "82ba9006",
   "metadata": {},
   "outputs": [
    {
     "name": "stdout",
     "output_type": "stream",
     "text": [
      "Date la plus ancienne 1980-04-16 00:00:00\n",
      "Date la plus recente 2020-02-27 00:00:00\n"
     ]
    }
   ],
   "source": [
    "# Nou verifye ki etandi done yo\n",
    "date_min = df['Publication.Date'].min()\n",
    "date_max = df['Publication.Date'].max()\n",
    "print('Date la plus ancienne',date_min)\n",
    "print('Date la plus recente',date_max)"
   ]
  },
  {
   "cell_type": "code",
   "execution_count": 21,
   "metadata": {},
   "outputs": [],
   "source": [
    "# Nou ekspote data nou an nn folder data a pou no ka realize Tablo bo an nn Power BI\n",
    "#df.to_csv('data/Aviation_Data_clean.csv',index=False)"
   ]
  },
  {
   "cell_type": "markdown",
   "id": "f22f1f64",
   "metadata": {},
   "source": [
    "## Kek Insight\n",
    "\n",
    "Etan done chak liy reprezante yon aksidan, sou baz sa nou bral fe analiz kap vini yo nan lide poun reponn a preokupasyon prensipal nou an."
   ]
  },
  {
   "cell_type": "code",
   "execution_count": 22,
   "metadata": {},
   "outputs": [
    {
     "data": {
      "text/plain": [
       "Model\n",
       "152              2061\n",
       "172              1003\n",
       "172N              956\n",
       "PA-28-140         787\n",
       "150               655\n",
       "                 ... \n",
       "BK117C1             1\n",
       "Rand KR 2           1\n",
       "7JC                 1\n",
       "222 UT              1\n",
       "Sorrell SNJ-7       1\n",
       "Name: count, Length: 8473, dtype: int64"
      ]
     },
     "execution_count": 22,
     "metadata": {},
     "output_type": "execute_result"
    }
   ],
   "source": [
    "# Nonb aksidan pa model.\n",
    "count_by_model = df['Model'].value_counts()\n",
    "count_by_model"
   ]
  },
  {
   "cell_type": "code",
   "execution_count": 23,
   "id": "d68fce6c",
   "metadata": {},
   "outputs": [
    {
     "data": {
      "text/plain": [
       "Make\n",
       "Cessna                    20414\n",
       "Piper                     11032\n",
       "Beech                      3935\n",
       "Bell                       1854\n",
       "Boeing                     1079\n",
       "                          ...  \n",
       "Scottish                      1\n",
       "Arrow Falcon Exporters        1\n",
       "Blondin                       1\n",
       "Gluff, Alan                   1\n",
       "Pipistrel                     1\n",
       "Name: count, Length: 4524, dtype: int64"
      ]
     },
     "execution_count": 23,
     "metadata": {},
     "output_type": "execute_result"
    }
   ],
   "source": [
    "# Nonb aksidan pa mak.\n",
    "count_by_make = df['Make'].value_counts()\n",
    "count_by_make"
   ]
  },
  {
   "cell_type": "code",
   "execution_count": 24,
   "id": "7125c686",
   "metadata": {},
   "outputs": [
    {
     "data": {
      "text/plain": [
       "Model\n",
       "152                     752.0\n",
       "PA-28-140               709.0\n",
       "172N                    653.0\n",
       "PA-28-181               520.0\n",
       "172                     482.0\n",
       "                        ...  \n",
       "&GCBC                     0.0\n",
       "unknown                   0.0\n",
       "058B                      0.0\n",
       "Zenith Zodiac 601 XL      0.0\n",
       "Zenith Zodiac CH601       0.0\n",
       "Name: Number of Injured, Length: 8473, dtype: float64"
      ]
     },
     "execution_count": 24,
     "metadata": {},
     "output_type": "execute_result"
    }
   ],
   "source": [
    "# Nonb blese pa model.\n",
    "injuries_by_model = df.groupby('Model')['Number of Injured'].sum().sort_values(ascending=False)\n",
    "injuries_by_model"
   ]
  },
  {
   "cell_type": "code",
   "execution_count": 25,
   "id": "737c68cf",
   "metadata": {},
   "outputs": [
    {
     "data": {
      "text/plain": [
       "Make\n",
       "Cessna      12215.0\n",
       "Piper        8355.0\n",
       "Beech        3408.0\n",
       "Boeing       2584.0\n",
       "Bell         1607.0\n",
       "             ...   \n",
       "Zeidman         0.0\n",
       "Zeidler         0.0\n",
       "Zdybel          0.0\n",
       "Zbacnick        0.0\n",
       "Zawada          0.0\n",
       "Name: Number of Injured, Length: 4524, dtype: float64"
      ]
     },
     "execution_count": 25,
     "metadata": {},
     "output_type": "execute_result"
    }
   ],
   "source": [
    "# Nonb blese pa mak.\n",
    "injuries_by_make = df.groupby('Make')['Number of Injured'].sum().sort_values(ascending=False)\n",
    "injuries_by_make"
   ]
  },
  {
   "cell_type": "code",
   "execution_count": 26,
   "id": "0f1e509c",
   "metadata": {},
   "outputs": [
    {
     "data": {
      "text/plain": [
       "Event.Date\n",
       "1982    3545\n",
       "1983    3506\n",
       "1984    3403\n",
       "1985    3046\n",
       "1986    2822\n",
       "1987    2751\n",
       "1988    2644\n",
       "1989    2464\n",
       "1990    2422\n",
       "1991    2369\n",
       "1992    2254\n",
       "1993    2223\n",
       "1995    2210\n",
       "1994    2161\n",
       "1996    2091\n",
       "1999    2066\n",
       "1998    2062\n",
       "1997    2038\n",
       "2000    2025\n",
       "2003    1928\n",
       "2001    1877\n",
       "2002    1868\n",
       "2005    1826\n",
       "2007    1808\n",
       "2004    1778\n",
       "2006    1643\n",
       "1979       2\n",
       "1977       1\n",
       "1981       1\n",
       "1974       1\n",
       "1962       1\n",
       "1948       1\n",
       "Name: count, dtype: int64"
      ]
     },
     "execution_count": 26,
     "metadata": {},
     "output_type": "execute_result"
    }
   ],
   "source": [
    "# Ane avek plis aksidan.\n",
    "accidents_per_year = df['Event.Date'].dt.year.value_counts().sort_values(ascending=False)\n",
    "accidents_per_year"
   ]
  },
  {
   "cell_type": "code",
   "execution_count": 27,
   "id": "d2b6ede4",
   "metadata": {},
   "outputs": [
    {
     "data": {
      "text/plain": [
       "Event.Date\n",
       "1995    2210\n",
       "1994    2161\n",
       "1996    2091\n",
       "1999    2066\n",
       "1998    2062\n",
       "1997    2038\n",
       "2000    2025\n",
       "2003    1928\n",
       "2001    1877\n",
       "2002    1868\n",
       "2005    1826\n",
       "2007    1808\n",
       "2004    1778\n",
       "2006    1643\n",
       "1979       2\n",
       "1977       1\n",
       "1981       1\n",
       "1974       1\n",
       "1962       1\n",
       "1948       1\n",
       "Name: count, dtype: int64"
      ]
     },
     "execution_count": 27,
     "metadata": {},
     "output_type": "execute_result"
    }
   ],
   "source": [
    "# Ane avek pi piti nonb aksidan.\n",
    "accidents_per_year.tail(20)"
   ]
  },
  {
   "cell_type": "code",
   "execution_count": 28,
   "id": "63ef76e5",
   "metadata": {},
   "outputs": [
    {
     "data": {
      "text/plain": [
       "Broad.phase.of.flight\n",
       "Landing        15320\n",
       "Takeoff        12404\n",
       "Cruise         10141\n",
       "Maneuvering     8052\n",
       "Approach        6389\n",
       "Climb           1995\n",
       "Descent         1870\n",
       "Taxi            1786\n",
       "Go-around       1345\n",
       "Standing         872\n",
       "Unknown          547\n",
       "Other            116\n",
       "Name: count, dtype: int64"
      ]
     },
     "execution_count": 28,
     "metadata": {},
     "output_type": "execute_result"
    }
   ],
   "source": [
    "# Repatison aksidan yo pa faz vol.\n",
    "phase_counts = df['Broad.phase.of.flight'].value_counts().sort_values(ascending=False)\n",
    "phase_counts"
   ]
  },
  {
   "cell_type": "code",
   "execution_count": 29,
   "id": "57009284",
   "metadata": {},
   "outputs": [
    {
     "data": {
      "text/plain": [
       "Weather.Condition\n",
       "VMC    55554\n",
       "IMC     4690\n",
       "UNK      541\n",
       "Name: count, dtype: int64"
      ]
     },
     "execution_count": 29,
     "metadata": {},
     "output_type": "execute_result"
    }
   ],
   "source": [
    "# Nonb aksidan pa rapo ak kondisyon tan li fe.\n",
    "# VMC: Visual Meteorological Conditions __Bon visibilite (Vol pandan pilot yo ap gade).\n",
    "# IMC:  Instrument Meteorological Conditions  __Move vizibilite (Vol avek enstruman).\n",
    "weather_counts = df['Weather.Condition'].value_counts()\n",
    "weather_counts"
   ]
  },
  {
   "cell_type": "code",
   "execution_count": 30,
   "metadata": {},
   "outputs": [
    {
     "data": {
      "text/plain": [
       "Purpose.of.flight\n",
       "Personal                     24451.0\n",
       "Unknown                      10490.0\n",
       "Business                      2895.0\n",
       "Instructional                 2684.0\n",
       "Aerial Application            1154.0\n",
       "Other Work Use                 611.0\n",
       "Positioning                    560.0\n",
       "Public Aircraft                440.0\n",
       "Aerial Observation             426.0\n",
       "Executive/corporate            425.0\n",
       "Ferry                          395.0\n",
       "Skydiving                       15.0\n",
       "Flight Test                      9.0\n",
       "Air Race/show                    4.0\n",
       "Public Aircraft - Federal        3.0\n",
       "Glider Tow                       1.0\n",
       "Banner Tow                       0.0\n",
       "Air Drop                         0.0\n",
       "External Load                    0.0\n",
       "Firefighting                     0.0\n",
       "Public Aircraft - State          0.0\n",
       "Public Aircraft - Local          0.0\n",
       "Name: Number of Injured, dtype: float64"
      ]
     },
     "execution_count": 30,
     "metadata": {},
     "output_type": "execute_result"
    }
   ],
   "source": [
    "# Blesi pa tip vol.\n",
    "injuries_by_purpose = df.groupby('Purpose.of.flight')['Number of Injured'].sum().sort_values(ascending=False)\n",
    "injuries_by_purpose"
   ]
  },
  {
   "cell_type": "code",
   "execution_count": 31,
   "id": "e9dbfc1e",
   "metadata": {},
   "outputs": [
    {
     "data": {
      "text/plain": [
       "Number.of.Engines\n",
       "1.0    50622\n",
       "2.0     7874\n",
       "0.0      729\n",
       "3.0      407\n",
       "4.0      310\n",
       "Name: count, dtype: int64"
      ]
     },
     "execution_count": 31,
     "metadata": {},
     "output_type": "execute_result"
    }
   ],
   "source": [
    "#Aksidan pa rapo ak kantite mote ke anjen an genyen.\n",
    "engine_counts = df['Number.of.Engines'].value_counts()\n",
    "engine_counts"
   ]
  },
  {
   "cell_type": "code",
   "execution_count": 32,
   "id": "fd8d4544",
   "metadata": {},
   "outputs": [
    {
     "data": {
      "text/plain": [
       "Country\n",
       "United States                     60283\n",
       "ATLANTIC OCEAN                       74\n",
       "Puerto Rico                          69\n",
       "PACIFIC OCEAN                        45\n",
       "GULF OF MEXICO                       29\n",
       "MISSING                              22\n",
       "Bahamas                              18\n",
       "HIGH ISLAND                          12\n",
       "CARIBBEAN SEA                        12\n",
       "Northern Mariana Islands              7\n",
       "American Samoa                        6\n",
       "Canada                                5\n",
       "Guam                                  2\n",
       "Japan                                 2\n",
       "Mexico                                2\n",
       "Colombia                              2\n",
       "Philippines                           2\n",
       "Honduras                              2\n",
       "Mauritius                             2\n",
       "Antarctica                            2\n",
       "Haiti                                 2\n",
       "Iceland                               1\n",
       "Martinique                            1\n",
       "Papua New Guinea                      1\n",
       "Guatemala                             1\n",
       "Guyana                                1\n",
       "BLOCK 651A                            1\n",
       "Cuba                                  1\n",
       "San Juan Islands                      1\n",
       "Bermuda                               1\n",
       "Venezuela                             1\n",
       "Solomon Islands                       1\n",
       "Netherlands                           1\n",
       "Federated States Of Micronesia        1\n",
       "Antigua And Barbuda                   1\n",
       "India                                 1\n",
       "Jamaica                               1\n",
       "Mali                                  1\n",
       "Brazil                                1\n",
       "Taiwan                                1\n",
       "Australia                             1\n",
       "El Salvador                           1\n",
       "Marshall Islands                      1\n",
       "France                                1\n",
       "St Kitts And Nevis                    1\n",
       "Afghanistan                           1\n",
       "Unknown                               1\n",
       "Name: count, dtype: int64"
      ]
     },
     "execution_count": 32,
     "metadata": {},
     "output_type": "execute_result"
    }
   ],
   "source": [
    "# Aksidan pa rapo ak peyi.\n",
    "accidents_by_country = df['Country'].value_counts()\n",
    "accidents_by_country"
   ]
  },
  {
   "cell_type": "code",
   "execution_count": 33,
   "id": "6abbbf6f",
   "metadata": {},
   "outputs": [
    {
     "data": {
      "text/plain": [
       "Engine.Type\n",
       "Reciprocating    52469\n",
       "Turbo Shaft       2519\n",
       "Turbo Prop        2176\n",
       "Turbo Fan         1496\n",
       "Unknown           1247\n",
       "Turbo Jet          549\n",
       "Name: count, dtype: int64"
      ]
     },
     "execution_count": 33,
     "metadata": {},
     "output_type": "execute_result"
    }
   ],
   "source": [
    "# Aksidan pa tip mote.\n",
    "accidents_by_engine_type = df['Engine.Type'].value_counts()\n",
    "accidents_by_engine_type\n",
    "\n"
   ]
  },
  {
   "cell_type": "markdown",
   "id": "51633c22",
   "metadata": {},
   "source": [
    "### Nap prezante rezilta nou yo a trave kek graf."
   ]
  },
  {
   "cell_type": "markdown",
   "id": "6b0befd3",
   "metadata": {},
   "source": [
    " \n",
    "Data yo fe resoti ke se Model anjen **152** an ki fe plis aksidan sou peryod la ak yon kantite de 2 061(aksidan), apre ou jwenn anjen **172** lan ki fe 1 003 (aksidan) epi **172N** ki fe 956 aksidan. Men yon lot bo anjen ki fe mwens aksidan yo se **Sorrell,SNJ-7,222 UT,7JC,Rand KR 2** avek selman yon grenn aksidan.\n",
    "\n",
    "Bo kote mak yo se **Cessna** ki fe plis aksidan sou peryod lan avek 20 414 (aksidan) epi nou jwenn **Piper** avek 11 032 aksidan pou fini nou jwenn **Beech** avek 3 935 (aksidan). Sepandan mak ki fe mwens aksidan yo se **Pipistrel,Gluff Alan,Blondin,Arrow Falcon Exporters.Scottish** avek selman yon aksidan sou peryod lan."
   ]
  },
  {
   "cell_type": "code",
   "execution_count": 34,
   "id": "4c772b5c",
   "metadata": {},
   "outputs": [
    {
     "name": "stderr",
     "output_type": "stream",
     "text": [
      "C:\\Users\\Calixte\\AppData\\Local\\Temp\\ipykernel_18156\\3194022564.py:5: FutureWarning: \n",
      "\n",
      "Passing `palette` without assigning `hue` is deprecated and will be removed in v0.14.0. Assign the `y` variable to `hue` and set `legend=False` for the same effect.\n",
      "\n",
      "  sns.barplot(y=top_models.index, x = top_models.values,palette = \"Blues_d\")\n"
     ]
    },
    {
     "data": {
      "image/png": "[encoded data removed]",
      "text/plain": [
       "<Figure size 1000x600 with 1 Axes>"
      ]
     },
     "metadata": {},
     "output_type": "display_data"
    }
   ],
   "source": [
    "# Aksidan yo pa model\n",
    "top_models = df['Model'].value_counts().head(10)\n",
    "\n",
    "plt.figure(figsize=(10,6))\n",
    "sns.barplot(y=top_models.index, x = top_models.values,palette = \"Blues_d\")\n",
    "plt.title(\"Top 10 model anjen avek plis aksidan\")\n",
    "plt.xlabel(\"Nonb Aksidan\")\n",
    "plt.ylabel(\"Model\")\n",
    "plt.tight_layout()\n"
   ]
  },
  {
   "cell_type": "code",
   "execution_count": 35,
   "id": "dbd9c702",
   "metadata": {},
   "outputs": [
    {
     "name": "stderr",
     "output_type": "stream",
     "text": [
      "C:\\Users\\Calixte\\AppData\\Local\\Temp\\ipykernel_18156\\3227700771.py:5: FutureWarning: \n",
      "\n",
      "Passing `palette` without assigning `hue` is deprecated and will be removed in v0.14.0. Assign the `y` variable to `hue` and set `legend=False` for the same effect.\n",
      "\n",
      "  sns.barplot(y=top_models.index, x = top_models.values,palette = \"Blues_d\")\n"
     ]
    },
    {
     "data": {
      "image/png": "[encoded data removed]",
      "text/plain": [
       "<Figure size 1000x600 with 1 Axes>"
      ]
     },
     "metadata": {},
     "output_type": "display_data"
    }
   ],
   "source": [
    "# Aksidan yo pa model\n",
    "top_models = df['Model'].value_counts().tail(5)\n",
    "\n",
    "plt.figure(figsize=(10,6))\n",
    "sns.barplot(y=top_models.index, x = top_models.values,palette = \"Blues_d\")\n",
    "plt.title(\"Top 5 model anjen avek mwens aksidan\")\n",
    "plt.xlabel(\"Nonb Aksidan\")\n",
    "plt.ylabel(\"Model\")\n",
    "plt.tight_layout()"
   ]
  },
  {
   "cell_type": "code",
   "execution_count": 43,
   "id": "677613f5",
   "metadata": {},
   "outputs": [
    {
     "name": "stderr",
     "output_type": "stream",
     "text": [
      "C:\\Users\\Calixte\\AppData\\Local\\Temp\\ipykernel_18156\\1971475680.py:5: FutureWarning: \n",
      "\n",
      "Passing `palette` without assigning `hue` is deprecated and will be removed in v0.14.0. Assign the `y` variable to `hue` and set `legend=False` for the same effect.\n",
      "\n",
      "  sns.barplot(y=top_make.index, x = top_make.values,palette = \"Blues_d\")\n"
     ]
    },
    {
     "data": {
      "image/png": "[encoded data removed]",
      "text/plain": [
       "<Figure size 1000x600 with 1 Axes>"
      ]
     },
     "metadata": {},
     "output_type": "display_data"
    }
   ],
   "source": [
    "# Aksidan yo pa mak\n",
    "top_make = df['Make'].value_counts().head(10)\n",
    "\n",
    "plt.figure(figsize=(10,6))\n",
    "sns.barplot(y=top_make.index, x = top_make.values,palette = \"Blues_d\")\n",
    "plt.title(\"Top 10 mak anjen avek plis aksidan\")\n",
    "plt.xlabel(\"Nonb Aksidan\")\n",
    "plt.ylabel(\"Mak\")\n",
    "plt.tight_layout()"
   ]
  },
  {
   "cell_type": "code",
   "execution_count": 44,
   "id": "5b964250",
   "metadata": {},
   "outputs": [
    {
     "name": "stderr",
     "output_type": "stream",
     "text": [
      "C:\\Users\\Calixte\\AppData\\Local\\Temp\\ipykernel_18156\\3201660715.py:5: FutureWarning: \n",
      "\n",
      "Passing `palette` without assigning `hue` is deprecated and will be removed in v0.14.0. Assign the `y` variable to `hue` and set `legend=False` for the same effect.\n",
      "\n",
      "  sns.barplot(y=top_make.index, x = top_make.values,palette = \"Blues_d\")\n"
     ]
    },
    {
     "data": {
      "image/png": "[encoded data removed]",
      "text/plain": [
       "<Figure size 1000x600 with 1 Axes>"
      ]
     },
     "metadata": {},
     "output_type": "display_data"
    }
   ],
   "source": [
    "# Aksidan yo pa mak\n",
    "top_make = df['Make'].value_counts().tail(5)\n",
    "\n",
    "plt.figure(figsize=(10,6))\n",
    "sns.barplot(y=top_make.index, x = top_make.values,palette = \"Blues_d\")\n",
    "plt.title(\"Top 5 mak anjen avek mwens aksidan\")\n",
    "plt.xlabel(\"Nonb Aksidan\")\n",
    "plt.ylabel(\"Mak\")\n",
    "plt.tight_layout()"
   ]
  },
  {
   "cell_type": "markdown",
   "id": "1dd31b67",
   "metadata": {},
   "source": [
    "Selon data yo, anviwon 50 000 ka aksidan yo konsene tip mote **Reciprocating** swa anviwon 87% aksidan yo. Pa kont **Turbo Jet** fe selman 549  aksidan ki reprezante mwens ke 1% aksidan yo. \n",
    "Nou remake tou, yon to elve aksidan nn nivo anjen ki gen selman yon sel mote swa anviwon 84% aksidan yo, pa kont sa ki gen 4 mote o konsene nn mwens ke 1% aksidan yo. E nou remake tou, tou o tan anjen an gen plis mote, se tou o tan li gen mwens chans poul fe aksidan.\n",
    "\n",
    "Yon lot bo, 25% aksidan yo arive fet nan faz kote anjen yo bral ateri, 20% fet pandan anjen yo bral vole epi 17% pandan anjen yo fin vole. Data yo fe resoti ke anviwon 91% aksidan realize pandan gen bon kondisyon vizyel (VMC).\n",
    "\n",
    "Pou fini nou remake ke kantite aksidan yo gen tandans pou redui avek tan kap pase."
   ]
  },
  {
   "cell_type": "code",
   "execution_count": 38,
   "id": "33028959",
   "metadata": {},
   "outputs": [
    {
     "name": "stderr",
     "output_type": "stream",
     "text": [
      "C:\\Users\\Calixte\\AppData\\Local\\Temp\\ipykernel_18156\\77025556.py:5: FutureWarning: \n",
      "\n",
      "Passing `palette` without assigning `hue` is deprecated and will be removed in v0.14.0. Assign the `y` variable to `hue` and set `legend=False` for the same effect.\n",
      "\n",
      "  sns.barplot(y=top_accidents_engine.index, x = top_accidents_engine.values,palette = \"Blues_d\")\n"
     ]
    },
    {
     "data": {
      "image/png": "[encoded data removed]",
      "text/plain": [
       "<Figure size 1000x600 with 1 Axes>"
      ]
     },
     "metadata": {},
     "output_type": "display_data"
    }
   ],
   "source": [
    "# Aksidan yo pa tip mote.\n",
    "top_accidents_engine = df['Engine.Type'].value_counts()\n",
    "\n",
    "plt.figure(figsize=(10,6))\n",
    "sns.barplot(y=top_accidents_engine.index, x = top_accidents_engine.values,palette = \"Blues_d\")\n",
    "plt.title(\"Aksidan pa tip mote\")\n",
    "plt.xlabel(\"Nonb Aksidan\")\n",
    "plt.ylabel(\"Tip Mote\")\n",
    "plt.tight_layout()"
   ]
  },
  {
   "cell_type": "code",
   "execution_count": 39,
   "id": "33722b9e",
   "metadata": {},
   "outputs": [
    {
     "name": "stderr",
     "output_type": "stream",
     "text": [
      "C:\\Users\\Calixte\\AppData\\Local\\Temp\\ipykernel_18156\\2861416851.py:6: FutureWarning: \n",
      "\n",
      "Passing `palette` without assigning `hue` is deprecated and will be removed in v0.14.0. Assign the `y` variable to `hue` and set `legend=False` for the same effect.\n",
      "\n",
      "  sns.barplot(y=top_accidents_by_N_Eng.index, x = top_accidents_by_N_Eng.values,palette = \"Blues_d\")\n"
     ]
    },
    {
     "data": {
      "image/png": "[encoded data removed]",
      "text/plain": [
       "<Figure size 1000x600 with 1 Axes>"
      ]
     },
     "metadata": {},
     "output_type": "display_data"
    }
   ],
   "source": [
    "# Aksidan yo pa model\n",
    "df['Number.of.Engines'] = df['Number.of.Engines'].astype(str)\n",
    "top_accidents_by_N_Eng = df['Number.of.Engines'].value_counts()\n",
    "\n",
    "plt.figure(figsize=(10,6))\n",
    "sns.barplot(y=top_accidents_by_N_Eng.index, x = top_accidents_by_N_Eng.values,palette = \"Blues_d\")\n",
    "plt.title(\"Aksidan pa rapo ak kantite mote\")\n",
    "plt.xlabel(\"Nonb Aksidan\")\n",
    "plt.ylabel(\"Kantite Mote\")\n",
    "plt.tight_layout()"
   ]
  },
  {
   "cell_type": "code",
   "execution_count": 40,
   "id": "9cb049ed",
   "metadata": {},
   "outputs": [
    {
     "data": {
      "image/png": "[encoded data removed]",
      "text/plain": [
       "<Figure size 1200x500 with 1 Axes>"
      ]
     },
     "metadata": {},
     "output_type": "display_data"
    }
   ],
   "source": [
    "# Tandans Aksidan yo atrave tan\n",
    "df['Year'] = df['Publication.Date'].dt.year\n",
    "accidents_per_year = df['Year'].value_counts().sort_index()\n",
    "\n",
    "\n",
    "plt.figure(figsize=(12,5))\n",
    "accidents_per_year.plot(kind='line',marker = 'o')\n",
    "plt.title(\"Evolisyon nonb aksidan yo pa ane\")\n",
    "plt.xlabel('Ane')\n",
    "plt.ylabel(\"Nonb aksidan\")\n",
    "plt.grid(True)\n",
    "plt.tight_layout()\n",
    "\n",
    "\n"
   ]
  },
  {
   "cell_type": "code",
   "execution_count": 41,
   "id": "68d8f2eb",
   "metadata": {},
   "outputs": [
    {
     "name": "stderr",
     "output_type": "stream",
     "text": [
      "C:\\Users\\Calixte\\AppData\\Local\\Temp\\ipykernel_18156\\220136074.py:4: FutureWarning: \n",
      "\n",
      "Passing `palette` without assigning `hue` is deprecated and will be removed in v0.14.0. Assign the `y` variable to `hue` and set `legend=False` for the same effect.\n",
      "\n",
      "  sns.barplot(y=phase_counts.index,x = phase_counts.values, palette='Set2')\n"
     ]
    },
    {
     "data": {
      "image/png": "[encoded data removed]",
      "text/plain": [
       "<Figure size 800x600 with 1 Axes>"
      ]
     },
     "metadata": {},
     "output_type": "display_data"
    }
   ],
   "source": [
    "phase_counts = df['Broad.phase.of.flight'].value_counts()\n",
    "\n",
    "plt.figure(figsize=(8,6))\n",
    "sns.barplot(y=phase_counts.index,x = phase_counts.values, palette='Set2')\n",
    "plt.title(\"Repatisyon aksidan yo pa faz vol\")\n",
    "plt.xlabel(\"Nonb aksidan\")\n",
    "plt.ylabel(\"Faz Vol\")\n",
    "plt.tight_layout()\n"
   ]
  },
  {
   "cell_type": "code",
   "execution_count": 42,
   "id": "c37ea70b",
   "metadata": {},
   "outputs": [
    {
     "data": {
      "text/plain": [
       "<function matplotlib.pyplot.tight_layout(*, pad: 'float' = 1.08, h_pad: 'float | None' = None, w_pad: 'float | None' = None, rect: 'tuple[float, float, float, float] | None' = None) -> 'None'>"
      ]
     },
     "execution_count": 42,
     "metadata": {},
     "output_type": "execute_result"
    },
    {
     "data": {
      "image/png": "[encoded data removed]",
      "text/plain": [
       "<Figure size 600x400 with 1 Axes>"
      ]
     },
     "metadata": {},
     "output_type": "display_data"
    }
   ],
   "source": [
    "# Kondisyon meteyo le aksidan an\n",
    "weather_counts = df['Weather.Condition'].value_counts()\n",
    "\n",
    "\n",
    "plt.figure(figsize=(6,4))\n",
    "weather_counts.plot(kind = 'pie', autopct= '%1.1f%%', startangle=90, colors= sns.color_palette('pastel'))\n",
    "plt.ylabel('')\n",
    "plt.title('Kondisyon metewo le aksidan an')\n",
    "plt.tight_layout\n"
   ]
  },
  {
   "cell_type": "markdown",
   "id": "ed921eb2",
   "metadata": {},
   "source": [
    "## Konklizyon"
   ]
  },
  {
   "cell_type": "markdown",
   "id": "e1a4264b",
   "metadata": {},
   "source": [
    "\n",
    "Sou baz data sa yo, nou bral fe kek rekomandasyon a pati prenant yo."
   ]
  },
  {
   "cell_type": "markdown",
   "id": "1ead3c0e",
   "metadata": {},
   "source": [
    "1. Sou baz nonb aksidan sou peryod lan, nou ka di anjen ki pi sur yo se Model **Sorrell,SNJ-7,222 UT,7JC,Rand KR 2**, men pa kont sa ki mwens sur yo se model **152**, **172N**, **172**. Pa kont Mak ki pi sur yo se pito **Pipistrel,Gluff Alan,Blondin,Arrow Falcon Exporters.Scottish**. Sa ki mwens sur yo se Mak **Cessna**, **Piper** epi **Beech**.\n",
    "\n",
    "2. Selon done yo toujou, tip mote ki enplike nan plis aksidan se mak mote **Reciprocating**, yon lot bo mote ki enplike nan mwens aksidan an se **Turbo Jet**.\n",
    "\n",
    "3. Yon tandans ki enpotan nan data aksidan yo, se tou o tan anjen an gen plis mote se mwens chans li genyen poul fe aksidan. Ki donk yon obje ki gen 4 mote pi sur ke youn ki gen selman 2 mote.\n",
    "\n",
    "\n",
    "N.B: Nou panse rezilta analiz sa yo ka gen ladan yo kek bye, pa egzanp data sa yo genyen selman aksidan yo. Nou pa konnen nonb vol total yo, pase ke yon anjen ka fe plis aksidan se pase ke li vole plis. Remak sa valab tou pou model, mak anjen yo avek mak mote yo tou.\n",
    "\n",
    "\n",
    "\n",
    "\n"
   ]
  }
 ],
 "metadata": {
  "kernelspec": {
   "display_name": "venv",
   "language": "python",
   "name": "python3"
  },
  "language_info": {
   "codemirror_mode": {
    "name": "ipython",
    "version": 3
   },
   "file_extension": ".py",
   "mimetype": "text/x-python",
   "name": "python",
   "nbconvert_exporter": "python",
   "pygments_lexer": "ipython3",
   "version": "3.13.2"
  }
 },
 "nbformat": 4,
 "nbformat_minor": 5
}
