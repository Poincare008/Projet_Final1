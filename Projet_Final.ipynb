{
 "cells": [
  {
   "cell_type": "markdown",
   "id": "fbfdca53",
   "metadata": {},
   "source": [
    "# Projet Final"
   ]
  },
  {
   "cell_type": "code",
   "execution_count": null,
   "id": "ebaf2bf4",
   "metadata": {
    "vscode": {
     "languageId": "plaintext"
    }
   },
   "outputs": [],
   "source": []
  }
 ],
 "metadata": {
  "language_info": {
   "name": "python"
  }
 },
 "nbformat": 4,
 "nbformat_minor": 5
}
